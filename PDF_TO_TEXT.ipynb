{
 "cells": [
  {
   "cell_type": "code",
   "execution_count": 1,
   "id": "52837355-d767-4c17-951d-54ba6f0e6971",
   "metadata": {},
   "outputs": [
    {
     "name": "stdout",
     "output_type": "stream",
     "text": [
      "\u001b[93mimport tensorrt_llm failed, if do not use tensorrt, ignore this message\u001b[0m\n",
      "\u001b[93mimport lmdeploy failed, if do not use lmdeploy, ignore this message\u001b[0m\n",
      "Fetching PDF from https://www.responsibilityreports.com//Click/4101...\n"
     ]
    },
    {
     "name": "stderr",
     "output_type": "stream",
     "text": [
      "\u001b[32m2025-03-09 13:04:01.824\u001b[0m | \u001b[1mINFO    \u001b[0m | \u001b[36mmagic_pdf.data.dataset\u001b[0m:\u001b[36m__init__\u001b[0m:\u001b[36m156\u001b[0m - \u001b[1mlang: None\u001b[0m\n"
     ]
    },
    {
     "name": "stdout",
     "output_type": "stream",
     "text": [
      "Extracting text from document_1 (in-memory)...\n"
     ]
    },
    {
     "name": "stderr",
     "output_type": "stream",
     "text": [
      "\u001b[32m2025-03-09 13:04:09.127\u001b[0m | \u001b[1mINFO    \u001b[0m | \u001b[36mmagic_pdf.libs.pdf_check\u001b[0m:\u001b[36mdetect_invalid_chars\u001b[0m:\u001b[36m67\u001b[0m - \u001b[1mcid_count: 0, text_len: 9246, cid_chars_radio: 0.0\u001b[0m\n",
      "\u001b[32m2025-03-09 13:04:09.144\u001b[0m | \u001b[1mINFO    \u001b[0m | \u001b[36mmagic_pdf.model.pdf_extract_kit\u001b[0m:\u001b[36m__init__\u001b[0m:\u001b[36m78\u001b[0m - \u001b[1mDocAnalysis init, this may take some times, layout_model: doclayout_yolo, apply_formula: True, apply_ocr: False, apply_table: True, table_model: rapid_table, lang: None\u001b[0m\n",
      "\u001b[32m2025-03-09 13:04:09.145\u001b[0m | \u001b[1mINFO    \u001b[0m | \u001b[36mmagic_pdf.model.pdf_extract_kit\u001b[0m:\u001b[36m__init__\u001b[0m:\u001b[36m92\u001b[0m - \u001b[1musing device: cuda\u001b[0m\n",
      "\u001b[32m2025-03-09 13:04:09.146\u001b[0m | \u001b[1mINFO    \u001b[0m | \u001b[36mmagic_pdf.model.pdf_extract_kit\u001b[0m:\u001b[36m__init__\u001b[0m:\u001b[36m96\u001b[0m - \u001b[1musing models_dir: C:\\Users\\harry\\.cache\\huggingface\\hub\\models--opendatalab--PDF-Extract-Kit-1.0\\snapshots\\60416a2cabad3f7b7284b43ce37a99864484fba2/models\u001b[0m\n"
     ]
    },
    {
     "name": "stdout",
     "output_type": "stream",
     "text": [
      "CustomVisionEncoderDecoderModel init\n",
      "VariableUnimerNetModel init\n",
      "VariableUnimerNetPatchEmbeddings init\n",
      "VariableUnimerNetModel init\n",
      "VariableUnimerNetPatchEmbeddings init\n",
      "CustomMBartForCausalLM init\n",
      "CustomMBartDecoder init\n"
     ]
    },
    {
     "name": "stderr",
     "output_type": "stream",
     "text": [
      "2025-03-09 13:04:33,044 - DownloadModel - DEBUG: C:\\Users\\harry\\anaconda3\\envs\\MinerU\\Lib\\site-packages\\rapid_table\\models\\slanet-plus.onnx already exists\n",
      "[2025-03-09 13:04:33,044] [   DEBUG] download_model.py:34 - C:\\Users\\harry\\anaconda3\\envs\\MinerU\\Lib\\site-packages\\rapid_table\\models\\slanet-plus.onnx already exists\n",
      "\u001b[32m2025-03-09 13:04:43.923\u001b[0m | \u001b[1mINFO    \u001b[0m | \u001b[36mmagic_pdf.model.pdf_extract_kit\u001b[0m:\u001b[36m__init__\u001b[0m:\u001b[36m174\u001b[0m - \u001b[1mDocAnalysis init done!\u001b[0m\n",
      "\u001b[32m2025-03-09 13:04:43.923\u001b[0m | \u001b[1mINFO    \u001b[0m | \u001b[36mmagic_pdf.model.doc_analyze_by_custom_model\u001b[0m:\u001b[36mcustom_model_init\u001b[0m:\u001b[36m128\u001b[0m - \u001b[1mmodel init cost: 34.79082369804382\u001b[0m\n",
      "\u001b[32m2025-03-09 13:04:43.925\u001b[0m | \u001b[1mINFO    \u001b[0m | \u001b[36mmagic_pdf.model.doc_analyze_by_custom_model\u001b[0m:\u001b[36mdoc_analyze\u001b[0m:\u001b[36m184\u001b[0m - \u001b[1mgpu_memory: 8 GB, batch_ratio: 2\u001b[0m\n",
      "\u001b[32m2025-03-09 13:05:11.417\u001b[0m | \u001b[1mINFO    \u001b[0m | \u001b[36mmagic_pdf.model.batch_analyze\u001b[0m:\u001b[36m__call__\u001b[0m:\u001b[36m74\u001b[0m - \u001b[1mlayout time: 12.2, image num: 24\u001b[0m\n",
      "\u001b[32m2025-03-09 13:05:27.792\u001b[0m | \u001b[1mINFO    \u001b[0m | \u001b[36mmagic_pdf.model.batch_analyze\u001b[0m:\u001b[36m__call__\u001b[0m:\u001b[36m85\u001b[0m - \u001b[1mmfd time: 16.37, image num: 24\u001b[0m\n",
      "\u001b[32m2025-03-09 13:05:31.521\u001b[0m | \u001b[1mINFO    \u001b[0m | \u001b[36mmagic_pdf.model.batch_analyze\u001b[0m:\u001b[36m__call__\u001b[0m:\u001b[36m100\u001b[0m - \u001b[1mmfr time: 3.73, image num: 27\u001b[0m\n",
      "\u001b[32m2025-03-09 13:05:31.769\u001b[0m | \u001b[1mINFO    \u001b[0m | \u001b[36mmagic_pdf.model.sub_modules.model_utils\u001b[0m:\u001b[36mclean_vram\u001b[0m:\u001b[36m50\u001b[0m - \u001b[1mgc time: 0.25\u001b[0m\n",
      "\u001b[32m2025-03-09 13:05:43.217\u001b[0m | \u001b[1mINFO    \u001b[0m | \u001b[36mmagic_pdf.model.batch_analyze\u001b[0m:\u001b[36m__call__\u001b[0m:\u001b[36m195\u001b[0m - \u001b[1mdet time: 9.79, image num: 313\u001b[0m\n",
      "\u001b[32m2025-03-09 13:05:43.219\u001b[0m | \u001b[1mINFO    \u001b[0m | \u001b[36mmagic_pdf.model.batch_analyze\u001b[0m:\u001b[36m__call__\u001b[0m:\u001b[36m197\u001b[0m - \u001b[1mtable time: 1.48, image num: 1\u001b[0m\n",
      "\u001b[32m2025-03-09 13:05:43.508\u001b[0m | \u001b[1mINFO    \u001b[0m | \u001b[36mmagic_pdf.model.doc_analyze_by_custom_model\u001b[0m:\u001b[36mdoc_analyze\u001b[0m:\u001b[36m239\u001b[0m - \u001b[1mgc time: 0.23\u001b[0m\n",
      "\u001b[32m2025-03-09 13:05:43.508\u001b[0m | \u001b[1mINFO    \u001b[0m | \u001b[36mmagic_pdf.model.doc_analyze_by_custom_model\u001b[0m:\u001b[36mdoc_analyze\u001b[0m:\u001b[36m243\u001b[0m - \u001b[1mdoc analyze time: 59.58, speed: 0.4 pages/second\u001b[0m\n",
      "\u001b[32m2025-03-09 13:05:52.550\u001b[0m | \u001b[33m\u001b[1mWARNING \u001b[0m | \u001b[36mmagic_pdf.pdf_parse_union_core_v2\u001b[0m:\u001b[36msort_lines_by_model\u001b[0m:\u001b[36m547\u001b[0m - \u001b[33m\u001b[1mbottom > page_h, left: 1, right: 253, top: 592, bottom: 604, page_w: 841.8900146484375, page_h: 595.2760009765625\u001b[0m\n",
      "\u001b[32m2025-03-09 13:05:54.958\u001b[0m | \u001b[33m\u001b[1mWARNING \u001b[0m | \u001b[36mmagic_pdf.pdf_parse_union_core_v2\u001b[0m:\u001b[36msort_lines_by_model\u001b[0m:\u001b[36m547\u001b[0m - \u001b[33m\u001b[1mbottom > page_h, left: 1, right: 251, top: 588, bottom: 600, page_w: 841.8900146484375, page_h: 595.2760009765625\u001b[0m\n",
      "\u001b[32m2025-03-09 13:05:58.456\u001b[0m | \u001b[33m\u001b[1mWARNING \u001b[0m | \u001b[36mmagic_pdf.pdf_parse_union_core_v2\u001b[0m:\u001b[36msort_lines_by_model\u001b[0m:\u001b[36m547\u001b[0m - \u001b[33m\u001b[1mbottom > page_h, left: 0, right: 233, top: 593.0, bottom: 605.0, page_w: 841.8900146484375, page_h: 595.2760009765625\u001b[0m\n",
      "\u001b[32m2025-03-09 13:06:00.834\u001b[0m | \u001b[33m\u001b[1mWARNING \u001b[0m | \u001b[36mmagic_pdf.pdf_parse_union_core_v2\u001b[0m:\u001b[36msort_lines_by_model\u001b[0m:\u001b[36m547\u001b[0m - \u001b[33m\u001b[1mbottom > page_h, left: 561, right: 840, top: 588.0, bottom: 600.0, page_w: 841.8900146484375, page_h: 595.2760009765625\u001b[0m\n",
      "\u001b[32m2025-03-09 13:06:02.049\u001b[0m | \u001b[33m\u001b[1mWARNING \u001b[0m | \u001b[36mmagic_pdf.pdf_parse_union_core_v2\u001b[0m:\u001b[36msort_lines_by_model\u001b[0m:\u001b[36m547\u001b[0m - \u001b[33m\u001b[1mbottom > page_h, left: 0, right: 518, top: 397.3333333333333, bottom: 596.0, page_w: 841.8900146484375, page_h: 595.2760009765625\u001b[0m\n",
      "\u001b[32m2025-03-09 13:06:02.835\u001b[0m | \u001b[33m\u001b[1mWARNING \u001b[0m | \u001b[36mmagic_pdf.pdf_parse_union_core_v2\u001b[0m:\u001b[36msort_lines_by_model\u001b[0m:\u001b[36m547\u001b[0m - \u001b[33m\u001b[1mbottom > page_h, left: 548, right: 840, top: 588, bottom: 600, page_w: 841.8900146484375, page_h: 595.2760009765625\u001b[0m\n",
      "\u001b[32m2025-03-09 13:06:04.109\u001b[0m | \u001b[33m\u001b[1mWARNING \u001b[0m | \u001b[36mmagic_pdf.pdf_parse_union_core_v2\u001b[0m:\u001b[36msort_lines_by_model\u001b[0m:\u001b[36m547\u001b[0m - \u001b[33m\u001b[1mbottom > page_h, left: 0, right: 512, top: 397.3333333333333, bottom: 596.0, page_w: 841.8900146484375, page_h: 595.2760009765625\u001b[0m\n",
      "\u001b[32m2025-03-09 13:06:06.958\u001b[0m | \u001b[33m\u001b[1mWARNING \u001b[0m | \u001b[36mmagic_pdf.pdf_parse_union_core_v2\u001b[0m:\u001b[36msort_lines_by_model\u001b[0m:\u001b[36m547\u001b[0m - \u001b[33m\u001b[1mbottom > page_h, left: 558, right: 840, top: 595, bottom: 607, page_w: 841.8900146484375, page_h: 595.2760009765625\u001b[0m\n"
     ]
    },
    {
     "name": "stdout",
     "output_type": "stream",
     "text": [
      "Saved extracted text to output\\document_1.txt\n",
      "\n",
      "Processing complete\n"
     ]
    }
   ],
   "source": [
    "import requests\n",
    "import os\n",
    "from magic_pdf.data.data_reader_writer import FileBasedDataWriter\n",
    "from magic_pdf.data.dataset import PymuDocDataset\n",
    "from magic_pdf.model.doc_analyze_by_custom_model import doc_analyze\n",
    "from magic_pdf.config.enums import SupportedPdfParseMethod\n",
    "\n",
    "url_file = \"pdf_reports_urls.txt\"\n",
    "output_dir = \"output\"\n",
    "os.makedirs(output_dir, exist_ok=True)\n",
    "os.makedirs(os.path.join(output_dir, \"images\"), exist_ok=True)\n",
    "\n",
    "def fetch_pdf_from_url(url):\n",
    "    response = requests.get(url)\n",
    "    if response.status_code == 200:\n",
    "        return response.content  \n",
    "    else:\n",
    "        raise Exception(f\"Failed to fetch {url}, status code: {response.status_code}\")\n",
    "\n",
    "def extract_text_from_pdf_bytes(pdf_bytes, doc_name):\n",
    "    local_image_dir = os.path.join(output_dir, \"images\")\n",
    "    image_writer = FileBasedDataWriter(local_image_dir)\n",
    "    md_writer = FileBasedDataWriter(output_dir)\n",
    "\n",
    "    ds = PymuDocDataset(pdf_bytes)\n",
    "\n",
    "    if ds.classify() == SupportedPdfParseMethod.OCR:\n",
    "        infer_result = ds.apply(doc_analyze, ocr=True)\n",
    "        pipe_result = infer_result.pipe_ocr_mode(image_writer)\n",
    "    else:\n",
    "        infer_result = ds.apply(doc_analyze, ocr=False)\n",
    "        pipe_result = infer_result.pipe_txt_mode(image_writer)\n",
    "\n",
    "    infer_result.draw_model(os.path.join(output_dir, f\"{doc_name}_model.pdf\"))\n",
    "    pipe_result.draw_layout(os.path.join(output_dir, f\"{doc_name}_layout.pdf\"))\n",
    "    pipe_result.draw_span(os.path.join(output_dir, f\"{doc_name}_spans.pdf\"))\n",
    "    pipe_result.dump_md(md_writer, f\"{doc_name}.md\", \"images\")\n",
    "    pipe_result.dump_content_list(md_writer, f\"{doc_name}_content_list.json\", \"images\")\n",
    "    pipe_result.dump_middle_json(md_writer, f'{doc_name}_middle.json')\n",
    "\n",
    "    # Get extracted markdown content (this is the actual extracted text)\n",
    "    md_content = pipe_result.get_markdown(\"images\")\n",
    "    return \"\\n\\n\".join(md_content)\n",
    "\n",
    "def main():\n",
    "    with open(url_file, \"r\", encoding=\"utf-8\") as f:\n",
    "        urls = [line.strip() for line in f.readlines() if line.strip()]\n",
    "\n",
    "    for idx, url in enumerate(urls):\n",
    "        doc_name = f\"document_{idx+1}\"\n",
    "        txt_output_path = os.path.join(output_dir, f\"{doc_name}.txt\")\n",
    "\n",
    "        try:\n",
    "            print(f\"Fetching PDF from {url}...\")\n",
    "            pdf_bytes = fetch_pdf_from_url(url)\n",
    "\n",
    "            print(f\"Extracting text from {doc_name} (in-memory)...\")\n",
    "            extracted_text = extract_text_from_pdf_bytes(pdf_bytes, doc_name)\n",
    "\n",
    "            # Save extracted text into its own file\n",
    "            with open(txt_output_path, \"w\", encoding=\"utf-8\") as txt_file:\n",
    "                txt_file.write(extracted_text)\n",
    "\n",
    "            print(f\"Saved extracted text to {txt_output_path}\\n\")\n",
    "\n",
    "        except Exception as e:\n",
    "            print(f\"Error processing {url}: {e}\")\n",
    "\n",
    "    print(\"Processing complete\")\n",
    "\n",
    "if __name__ == \"__main__\":\n",
    "    main()\n"
   ]
  },
  {
   "cell_type": "code",
   "execution_count": null,
   "id": "410121fd-a0cf-4ab0-a207-24f13f0f76a3",
   "metadata": {},
   "outputs": [],
   "source": []
  }
 ],
 "metadata": {
  "kernelspec": {
   "display_name": "Python 3 (ipykernel)",
   "language": "python",
   "name": "python3"
  },
  "language_info": {
   "codemirror_mode": {
    "name": "ipython",
    "version": 3
   },
   "file_extension": ".py",
   "mimetype": "text/x-python",
   "name": "python",
   "nbconvert_exporter": "python",
   "pygments_lexer": "ipython3",
   "version": "3.10.16"
  },
  "widgets": {
   "application/vnd.jupyter.widget-state+json": {
    "state": {},
    "version_major": 2,
    "version_minor": 0
   }
  }
 },
 "nbformat": 4,
 "nbformat_minor": 5
}
