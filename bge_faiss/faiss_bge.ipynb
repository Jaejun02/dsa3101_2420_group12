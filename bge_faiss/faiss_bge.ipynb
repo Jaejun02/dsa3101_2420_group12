{
 "cells": [
  {
   "cell_type": "markdown",
   "metadata": {},
   "source": [
    "1. create vector database to store summarised text embeddings <br>\n",
    "2. retrieve the embeddings of the documents using semantic search and key word search <br>\n",
    "3. return top k results through re-ranking <br>\n",
    "Note: vectors stored in the database should have metadata so original non-summarised text can be retrieved "
   ]
  },
  {
   "cell_type": "code",
   "execution_count": 1,
   "metadata": {
    "execution": {
     "iopub.execute_input": "2025-03-22T13:36:16.547738Z",
     "iopub.status.busy": "2025-03-22T13:36:16.547294Z",
     "iopub.status.idle": "2025-03-22T13:36:21.235071Z",
     "shell.execute_reply": "2025-03-22T13:36:21.233737Z",
     "shell.execute_reply.started": "2025-03-22T13:36:16.547703Z"
    },
    "trusted": true
   },
   "outputs": [],
   "source": [
    "from FlagEmbedding import BGEM3FlagModel\n",
    "from langchain_community.docstore.in_memory import InMemoryDocstore\n",
    "from langchain_community.vectorstores import FAISS\n",
    "from transformers import AutoTokenizer\n",
    "import numpy as np\n",
    "import faiss\n",
    "from scipy.sparse import csr_matrix, vstack\n",
    "from sklearn.preprocessing import MinMaxScaler\n",
    "import json\n",
    "from rank_bm25 import BM25Okapi\n",
    "from sklearn.feature_extraction.text import ENGLISH_STOP_WORDS\n",
    "import nltk\n",
    "from nltk.tokenize import word_tokenize"
   ]
  },
  {
   "cell_type": "code",
   "execution_count": 2,
   "metadata": {},
   "outputs": [
    {
     "name": "stderr",
     "output_type": "stream",
     "text": [
      "[nltk_data] Downloading package punkt to\n",
      "[nltk_data]     C:\\Users\\ryant\\AppData\\Roaming\\nltk_data...\n",
      "[nltk_data]   Package punkt is already up-to-date!\n",
      "[nltk_data] Downloading package stopwords to\n",
      "[nltk_data]     C:\\Users\\ryant\\AppData\\Roaming\\nltk_data...\n",
      "[nltk_data]   Package stopwords is already up-to-date!\n",
      "[nltk_data] Downloading package punkt_tab to\n",
      "[nltk_data]     C:\\Users\\ryant\\AppData\\Roaming\\nltk_data...\n",
      "[nltk_data]   Package punkt_tab is already up-to-date!\n"
     ]
    },
    {
     "data": {
      "text/plain": [
       "True"
      ]
     },
     "execution_count": 2,
     "metadata": {},
     "output_type": "execute_result"
    }
   ],
   "source": [
    "# download necessary nltk\n",
    "nltk.download('punkt')\n",
    "nltk.download('stopwords')\n",
    "nltk.download('punkt_tab')"
   ]
  },
  {
   "cell_type": "code",
   "execution_count": 3,
   "metadata": {},
   "outputs": [],
   "source": [
    "# load json file with data\n",
    "with open(\"data.json\", \"r\") as f:\n",
    "    loaded_data = json.load(f)"
   ]
  },
  {
   "cell_type": "code",
   "execution_count": 4,
   "metadata": {
    "execution": {
     "iopub.execute_input": "2025-03-22T13:36:21.236978Z",
     "iopub.status.busy": "2025-03-22T13:36:21.236615Z",
     "iopub.status.idle": "2025-03-22T13:36:26.665521Z",
     "shell.execute_reply": "2025-03-22T13:36:26.664565Z",
     "shell.execute_reply.started": "2025-03-22T13:36:21.236943Z"
    },
    "trusted": true
   },
   "outputs": [
    {
     "data": {
      "application/vnd.jupyter.widget-view+json": {
       "model_id": "1d71a2c55d034d9ca35183ae9ee91461",
       "version_major": 2,
       "version_minor": 0
      },
      "text/plain": [
       "Fetching 30 files:   0%|          | 0/30 [00:00<?, ?it/s]"
      ]
     },
     "metadata": {},
     "output_type": "display_data"
    }
   ],
   "source": [
    "model = BGEM3FlagModel('BAAI/bge-m3', use_fp16=False)\n",
    "tokenizer = AutoTokenizer.from_pretrained(\"BAAI/bge-m3\")"
   ]
  },
  {
   "cell_type": "code",
   "execution_count": 5,
   "metadata": {},
   "outputs": [
    {
     "name": "stderr",
     "output_type": "stream",
     "text": [
      "You're using a XLMRobertaTokenizerFast tokenizer. Please note that with a fast tokenizer, using the `__call__` method is faster than using a method to encode the text followed by a call to the `pad` method to get a padded encoding.\n"
     ]
    },
    {
     "name": "stdout",
     "output_type": "stream",
     "text": [
      "Encoded vectors shape: (350,)\n"
     ]
    }
   ],
   "source": [
    "encoded_vectors = [model.encode(entry['Summarized']) for entry in loaded_data]\n",
    "encoded_vectors = np.array(encoded_vectors)\n",
    "\n",
    "print(\"Encoded vectors shape:\", encoded_vectors.shape)"
   ]
  },
  {
   "cell_type": "code",
   "execution_count": 12,
   "metadata": {},
   "outputs": [
    {
     "name": "stdout",
     "output_type": "stream",
     "text": [
      "Dense embeddings shape: (350, 1024)\n",
      "Sample dense embedding: [-0.05012071 -0.02261945 -0.02164037 ...  0.03180176 -0.02265712\n",
      " -0.02943054]\n",
      "Sample embedding shape: (1024,)\n"
     ]
    }
   ],
   "source": [
    "# Extract dense embeddings from each encoded vector\n",
    "dense_embeddings = np.array([vec['dense_vecs'] for vec in encoded_vectors])\n",
    "\n",
    "# Check the shape of dense embeddings\n",
    "print(f\"Dense embeddings shape: {dense_embeddings.shape}\")\n",
    "\n",
    "# Print sample embedding\n",
    "print(f\"Sample dense embedding: {dense_embeddings[0]}\")\n",
    "print(f\"Sample embedding shape: {dense_embeddings[0].shape}\")"
   ]
  },
  {
   "cell_type": "code",
   "execution_count": 13,
   "metadata": {},
   "outputs": [
    {
     "name": "stdout",
     "output_type": "stream",
     "text": [
      "FAISS index created with 350 embeddings\n"
     ]
    }
   ],
   "source": [
    "# Normalize dense embeddings\n",
    "norms = np.linalg.norm(dense_embeddings, axis=1, keepdims=True)\n",
    "dense_embeddings_normalized = dense_embeddings / norms\n",
    "\n",
    "dense_embeddings_normalized = dense_embeddings_normalized.astype('float32')\n",
    "# dense_embeddings = dense_embeddings.astype('float32')\n",
    "\n",
    "# create FAISS index\n",
    "index = faiss.IndexFlatIP(dense_embeddings_normalized.shape[1])\n",
    "index.add(dense_embeddings_normalized)\n",
    "\n",
    "print(f\"FAISS index created with {index.ntotal} embeddings\")"
   ]
  },
  {
   "cell_type": "code",
   "execution_count": 14,
   "metadata": {},
   "outputs": [
    {
     "name": "stdout",
     "output_type": "stream",
     "text": [
      "Number of unique embeddings: 347\n"
     ]
    },
    {
     "data": {
      "text/plain": [
       "array([[-0.05012071, -0.02261945, -0.02164037, ...,  0.03180176,\n",
       "        -0.02265712, -0.02943054],\n",
       "       [-0.0537782 ,  0.01582329, -0.03108685, ...,  0.04655176,\n",
       "        -0.00060346, -0.01102644],\n",
       "       [-0.0227494 ,  0.00865165, -0.02520824, ...,  0.04443739,\n",
       "         0.03599183, -0.01531775],\n",
       "       ...,\n",
       "       [-0.03282754, -0.01649688, -0.00893549, ...,  0.06326716,\n",
       "         0.00532408, -0.03525482],\n",
       "       [-0.05206808, -0.01915673, -0.05155739, ...,  0.04528717,\n",
       "         0.00682075, -0.03072113],\n",
       "       [-0.01994273,  0.03464289, -0.04770726, ...,  0.00985204,\n",
       "         0.03093441,  0.01254351]], dtype=float32)"
      ]
     },
     "execution_count": 14,
     "metadata": {},
     "output_type": "execute_result"
    }
   ],
   "source": [
    "# check dense embeddings for any repeated values\n",
    "unique_embeddings = np.unique(dense_embeddings_normalized, axis=0)\n",
    "print(f\"Number of unique embeddings: {unique_embeddings.shape[0]}\")\n",
    "dense_embeddings_normalized[:10]"
   ]
  },
  {
   "cell_type": "markdown",
   "metadata": {},
   "source": [
    "Semantic Search"
   ]
  },
  {
   "cell_type": "code",
   "execution_count": null,
   "metadata": {},
   "outputs": [
    {
     "name": "stdout",
     "output_type": "stream",
     "text": [
      "Top documents:\n",
      "1. Original: # CORPORATE SOCIAL RESPONSIBILITY REPORT  \n",
      "\n",
      "[Image Description: A picture of the number 02 with blue lines.]\n",
      "   Summarized: 'This section reports on corporate social responsibility, including employee turnover rate, number of workplace accidents, injury rates, average training hours per employee, training investment per employee, percentage of minority employees, social related goals and actions taken, number of corruption incidents reported, compliance rate with anti-corruption policies, number of anti-competitive behavior incidents, monetary value of fines imposed, total value of political contributions made, number of marketing compliance incidents or violations reported, and governance related goals and actions taken.'\n",
      "   Similarity Score: 0.5793351531028748\n",
      "2. Original: # 940  \n",
      "\n",
      "[Image Description: A yellow label that says \"100\" with honeycomb shapes around it.]  \n",
      "\n",
      "ideas submitters  \n",
      "\n",
      "incubation participants and coaches\n",
      "   Summarized: \n",
      "   Similarity Score: 0.551350474357605\n",
      "3. Original: # CLIMATE CHANGE  \n",
      "\n",
      "[Image Description: Business professionals have coffee at an atrium.]\n",
      "   Summarized: \n",
      "   Similarity Score: 0.551350474357605\n",
      "4. Original: # Fast tech transformation  \n",
      "\n",
      "[Image Description: An LG OLED 65\" 4K smart TV displayed in store.]  \n",
      "\n",
      "\\* Includes hydrogen \\*\\* Snapdragon and Qualcomm branded products are products of Qualcomm Technologies, Inc. and/or its subsidiaries\n",
      "   Summarized: \n",
      "   Similarity Score: 0.551350474357605\n",
      "5. Original: # AARAMISGROUP  \n",
      "\n",
      "# SPOTiCAR\n",
      "   Summarized: \n",
      "   Similarity Score: 0.551350474357605\n"
     ]
    }
   ],
   "source": [
    "query = \"What is corporate social responsibility?\"\n",
    "\n",
    "# Generate dense embedding for the query\n",
    "query_embedding = model.encode([query])['dense_vecs']\n",
    "query_embedding = np.array(query_embedding).astype('float32')\n",
    "\n",
    "# Normalize query embedding\n",
    "query_norm = np.linalg.norm(query_embedding, axis=1, keepdims=True)\n",
    "query_embedding_normalized = query_embedding / query_norm\n",
    "\n",
    "# Semantic search\n",
    "top_k = 5 \n",
    "distances, indices = index.search(query_embedding_normalized, top_k)\n",
    "\n",
    "# Retrieve the top-k documents and their metadata\n",
    "top_documents = [loaded_data[i] for i in indices[0]]\n",
    "top_original_texts = [loaded_data[i]['Original'] for i in indices[0]]\n",
    "\n",
    "print(\"Top documents:\")\n",
    "for i, doc in enumerate(top_documents):\n",
    "    print(f\"{i + 1}. Original: {doc['Original']}\")\n",
    "    print(f\"   Summarized: {doc['Summarized']}\")\n",
    "    print(f\"   Similarity Score: {distances[0][i]}\")"
   ]
  },
  {
   "cell_type": "markdown",
   "metadata": {},
   "source": [
    "Keyword Search"
   ]
  },
  {
   "cell_type": "code",
   "execution_count": 56,
   "metadata": {},
   "outputs": [],
   "source": [
    "def tokenize(text):\n",
    "    tokens = word_tokenize(text.lower())\n",
    "    tokens = [token for token in tokens if token.isalnum() and token not in ENGLISH_STOP_WORDS]\n",
    "    return tokens\n",
    "\n",
    "# Tokenize the original texts\n",
    "tokenized_corpus = [tokenize(doc['Summarized']) for doc in loaded_data]"
   ]
  },
  {
   "cell_type": "code",
   "execution_count": 57,
   "metadata": {},
   "outputs": [],
   "source": [
    "# Create BM25 index\n",
    "bm25 = BM25Okapi(tokenized_corpus)"
   ]
  },
  {
   "cell_type": "code",
   "execution_count": 63,
   "metadata": {},
   "outputs": [
    {
     "name": "stdout",
     "output_type": "stream",
     "text": [
      "Top documents (BM25):\n",
      "1. Original: # 1.3.1 CSR POLICY  \n",
      "\n",
      "# “Powered by our diversity, we lead the way the world moves”.  \n",
      "\n",
      "Stellantis corporate purpose finds its roots in the inextinguishable appetite for mobility of all human beings: our corporate responsibility is to design and offer a range of mobility solutions which are affordable, safe and sustainable.  \n",
      "\n",
      "In order to protect our ability to provide those solutions in the long run and create shared value for the society in which we operate, guided by our support to the UN Sustainable Development Goals, our Corporate Social Responsibility policy finds its roots in the United Nations Global Compact Principles and embraces:  \n",
      "\n",
      "■\t a holistic approach of our environmental footprint: our actions strive to bring a tangible impact on climate change and make a wise use of natural resources. Life cycle analysis support our decisions, notably when technology or material related changes impact key features of our products (mass, recyclability, etc.) ■\t a human-centered management of our activities and their social impacts: we promote the development of our teams, we leverage on their diversity as an asset to understand citizens’ both common and specific expectations and desires all around the world, we support economic local development through responsible purchasing practices, we encourage social local initiatives through philanthropic actions in the communities around our locations ■\t strong ethical principles in governance and business relationships: the Stellantis governance model reflects our commitment to a culture dedicated to integrity, responsibility and ethical behavior in all areas of our activity and along the entire value chain. Our governance model supports our focus on creating a shared and lasting value for our stakeholders.  \n",
      "\n",
      "For Stellantis, value creation in the long run results from economic, environmental and social performance. We protect our sustainable development through responsible decisions and transparent business practices. Our Corporate Social Responsibility policy is based on these fundamental principles:  \n",
      "\n",
      "■\t We consider transparency as the basis of mutual trust with the society. Our responsibility is to make decisions knowing we will be accountable for them in the future. Stellantis strives to publish clear, extensive and accurate information to ensure our stakeholders have access to quality data. As an illustration, we obtain an independent auditor’s opinion on the truthfulness of its content, based on both assurance procedures at corporate (consolidated) level and at site level. Furthermore, the auditors based their selection of sites considering relevant reporting risks and geographical spread. The auditors have conducted their examination  in a manner that allowed them to obtain sufficient and appropriate evidence to conclude on a reasonable or a limited assurance level for most of the metrics. It also feeds the public debate, for the benefit of the general interest.  \n",
      "\n",
      "■\t As data-driven company, we base our decisions on facts, scientific approaches and close monitoring of our activities.  \n",
      "\n",
      "Stellantis regards its CSR policy as a collective and individual endeavor, which ensures that the principles of Corporate Social Responsibility are embedded into each business decision and guides the Company’s approach to its strategic challenges.  \n",
      "\n",
      "The CSR commitments presented in this Report are supported by accountable members of the Top Executive Team. Our CSR commitments are part of a proactive trajectory and supported by KPIs closely monitored.  \n",
      "\n",
      "Company employees at the various level of the organization are committed to adhere to and implement this CSR roadmap, which reflect Stellantis’ ambitions for the future.\n",
      "   Summarized: \"This section outlines Stellantis' Corporate Social Responsibility (CSR) policy, emphasizing its commitment to sustainable development through responsible decisions and transparent business practices, aligning with social responsibility and governance indicators.\"\n",
      "   BM25 Score: 9.013954369878522\n",
      "2. Original: # RISK DESCRIPTION  \n",
      "\n",
      "# MITIGATION STRATEGY\n",
      "   Summarized: 'This section provides a risk description and mitigation strategy, but no direct match to the target indicators. However, it implies a focus on governance actions and corporate responsibility, which are related to governance and social responsibility indicators.'\n",
      "   BM25 Score: 8.46422213121987\n",
      "3. Original: # CLIMATE CHANGE RISK AND OPPORTUNITIES  \n",
      "\n",
      "Managing those risks and opportunities leads Stellantis to define a clear decarbonization strategy, ambitious objectives and efficient enablers.  \n",
      "\n",
      "Given Stellantis’ determination to embed CSR in its decisions and activities, climate risks are managed by specific strategic actions and resources within the area of expertise required. Risk management is integrated at the heart of the strategy across the organization, from the decision-making bodies to the operational entities.\n",
      "   Summarized: \"This section highlights Stellantis' approach to climate change risk management, including a decarbonization strategy, ambitious objectives, and efficient enablers, which aligns with the company's commitment to corporate social responsibility and its efforts to mitigate climate impact.\"\n",
      "   BM25 Score: 7.178598535019787\n",
      "4. Original: # Commitment scoreboard  \n",
      "\n",
      "# CSR ISSUE/CHALLENGE\n",
      "   Summarized: \"This section appears to be a summary of various corporate social responsibility (CSR) issues and challenges, but does not provide specific data or metrics to infer connections to indicators like'resource use', 'political spending', 'policy adherence', 'turnover rate', etc. Therefore, it does not match any of the target indicators.\"\n",
      "   BM25 Score: 7.056638633259837\n",
      "5. Original: # Board of Directors committees: incorporation of climate related topics  \n",
      "\n",
      "With its 11 members, the Board of Directors has implemented three Committees with specific roles:  \n",
      "\n",
      "■\t the Audit Committee;   \n",
      "■\t the ESG Committee;   \n",
      "■\t the Remuneration Committee.  \n",
      "\n",
      "These specialized Committees prepare and produce work for the Board of Directors. Each Committee issues proposals, recommendations and opinions within the scope of its responsibilities.\n",
      "   Summarized: \"This section outlines the Board of Directors' committees, including the ESG Committee, which addresses climate-related topics, aligning with governance actions and corporate responsibility indicators.\"\n",
      "   BM25 Score: 6.5328773560691875\n"
     ]
    }
   ],
   "source": [
    "query = \"corporate social responsibility\"\n",
    "tokenized_query = tokenize(query)\n",
    "scores = bm25.get_scores(tokenized_query)\n",
    "\n",
    "top_k = 5\n",
    "top_indices = np.argsort(scores)[::-1][:top_k]\n",
    "\n",
    "# Retrieve the top-k documents and their metadata\n",
    "top_documents = [loaded_data[i] for i in top_indices]\n",
    "top_scores = [scores[i] for i in top_indices]\n",
    "\n",
    "print(\"Top documents (BM25):\")\n",
    "for i, doc in enumerate(top_documents):\n",
    "    print(f\"{i + 1}. Original: {doc['Original']}\")\n",
    "    print(f\"   Summarized: {doc['Summarized']}\")\n",
    "    print(f\"   BM25 Score: {top_scores[i]}\")"
   ]
  },
  {
   "cell_type": "markdown",
   "metadata": {},
   "source": [
    "Combine Semantic and Keyword Search"
   ]
  },
  {
   "cell_type": "code",
   "execution_count": null,
   "metadata": {},
   "outputs": [
    {
     "name": "stdout",
     "output_type": "stream",
     "text": [
      "Top documents (Combined):\n",
      "1. Original: # CORPORATE SOCIAL RESPONSIBILITY REPORT  \n",
      "\n",
      "[Image Description: A picture of the number 02 with blue lines.]\n",
      "   Summarized: 'This section reports on corporate social responsibility, including employee turnover rate, number of workplace accidents, injury rates, average training hours per employee, training investment per employee, percentage of minority employees, social related goals and actions taken, number of corruption incidents reported, compliance rate with anti-corruption policies, number of anti-competitive behavior incidents, monetary value of fines imposed, total value of political contributions made, number of marketing compliance incidents or violations reported, and governance related goals and actions taken.'\n",
      "   Combined Score: 0.9999999999999998\n",
      "2. Original: # Powered By Our Diversity, We Lead The Way The World Moves  \n",
      "\n",
      "# 2023 CORPORATE SOCIAL RESPONSIBILITY REPORT  \n",
      "\n",
      "REFERENCE FOR READING THE CSR REPOR 3  \n",
      "\n",
      "ROM THE CHAIRMAN & THE CE 5  \n",
      "\n",
      "1\t BUSINESS MODEL AND GOVERNANCE: CREATING SHARED AND LASTING VALUE - INTEGRATED REPORT 8  \n",
      "\n",
      "A TANGIBLE IMPACT ON CLIMATE CHANGE - CLIMATE REPORT 30  \n",
      "\n",
      "3\tDRIVING THE COMPANY TRANSFORMATION THROUGH THE DEVELOPMENT OF HUMAN CAPITAL 79  \n",
      "\n",
      "4\tMEETING CHANGING CUSTOMER EXPECTATIONS ON MOBILITY  \n",
      "\n",
      "144  \n",
      "\n",
      "5\tPREVENTING ETHICS VIOLATIONS BY PROMOTING OUR ETHICAL CULTURE 174  \n",
      "\n",
      "6\tPROMOTING PROTECTION AND IMPLEMENTING RESPONSIBLE USE OF NATURAL RESOURCES 201  \n",
      "\n",
      "7\tENSURING PROTECTION OF HUMAN RIGHTS AND SUPPORTING A BALANCED ECONOMIC DEVELOPMENT OF TERRITORIES  \n",
      "\n",
      "8 APPENDI 288\n",
      "   Summarized: 'This section lacks explicit ESG-related content and does not provide sufficient information for a meaningful summary.'\n",
      "   Combined Score: 0.3892149990510334\n",
      "3. Original: # REFERENCE FOR READING THE CSR REPORT  \n",
      "\n",
      "The Report contains 8 chapters, 6 of which are dedicated to the 6 CSR macro risk (pillars), each one with an associated color  \n",
      "\n",
      "Chapter 1 is the Integrated Report dedicated to Stellantis CSR business overview ■\t Chapters 2 through 7 present the 22 Stellantis CSR issues (challenges) according to the following sections: 1. Context and Stellantis position 5. Policies to execute the strategy 2. Forward-looking vision and targets 6. Organization and resources 3. Identification and management of risks 7. Main initiatives, achievements and results and opportunities 8. Detailed key performance indicators 4. Governance and decision bodies to lead actions  \n",
      "\n",
      "Chapter 2 is the Climate Report and presents common sections 1. to 4. for its three CSR issues.   \n",
      "Sections 5. to 8. are presented for each CSR issue.  \n",
      "\n",
      "Chapter 6 presents common sections 4. to 6. for industrial waste (6.4), pollution (6.5), water (6.6) and biodiversity (6.7). The remaining sections are presented for each CSR issue.  \n",
      "\n",
      "Chapter 7 presents common sections for Responsible Purchasing (7.1) and Human Rights (7.2) including the global approach (with sections 3. to 5.), a focus on Human Rights in the supply chain (with related sections 1. to 7.), and a link to Human Rights in own workforce.  \n",
      "\n",
      "■\t Chapter 8 covers the methodology and auditor’s report.  \n",
      "\n",
      "[Image Description: Untitled]  \n",
      "\n",
      "Each Forward-looking vision and targets section includes a commitment scoreboard composed of:  \n",
      "\n",
      "[Image Description: Europe PC&LT dist tutorials.]  \n",
      "\n",
      "Throughout the Report there are boxes that indicate focus areas:  \n",
      "\n",
      "[Image Description: The word strategy in blue.]  \n",
      "\n",
      "Additional information in note area  \n",
      "\n",
      "[Image Description: Purple shades on the sports team.]\n",
      "   Summarized: 'This section provides an overview of the CSR report structure, including 8 chapters covering various CSR macro risks and issues, such as climate, industrial waste, pollution, water, biodiversity, responsible purchasing, and human rights.', ''\n",
      "   Combined Score: 0.13012920908069425\n",
      "4. Original: # Link icon legend  \n",
      "\n",
      "CSR macro risk symbol and issue number/title from materiality matrix  \n",
      "\n",
      "[Image Description: The image shows an circle with the number one inside, indicating the first ESG assessment.]  \n",
      "\n",
      "Related SDGs  \n",
      "\n",
      "[Image Description: A picture of food alongside a panel with the text \"Promoting Prosperity\".]  \n",
      "\n",
      "External documents   \n",
      "$<2.6>$ Internal section   \n",
      "reference   \n",
      "Press release   \n",
      "$\\odot$ Video   \n",
      "Website\n",
      "   Summarized: 'This section appears to be an image legend with no ESG-related content, so there is no summary.'\n",
      "   Combined Score: 0.10555119294473037\n",
      "5. Original: # Text and data highlights  \n",
      "\n",
      "[Image Description: The acquisition of new solar energy fields reduces carbon emissions.]  \n",
      "\n",
      "Relationship between loyalty to the brand and aftersales satisfaction\n",
      "   Summarized: 'This section discusses the relationship between customer loyalty and aftersales satisfaction, but does not provide direct metrics or indicators related to the target list such as resource use, political spending, policy adherence, turnover rate, wastewater, total production waste, regulatory violations, water recycling, manufacturing waste, ethical violations, advertising violations, professional training, social responsibility, occupational injuries, water discharge, ethical standards, anti-corruption compliance, water consumption, misconduct reports, incident rate, waste output, financial sanctions, production energy, climate impact, inclusion, training hours, consumption rate, waste recycling, social initiatives, minority representation, emissions intensity, training cost, total energy, human capital investment, governance actions, recycling rate, electric vehicles, production byproduct, energy efficiency, production residues, regulatory incidents, corruption incidents, competition issues, monetary penalties, workforce demographics, clean mobility, compliance breaches, total waste, waste quantity, market fairness, board initiatives, diversity, anti-corruption, employee development, anti-competitive incidents, safety incidents, staff retention, recycled water percentage, carbon footprint, eco-friendly actions, landfill diversion, GHG rate, waste diversion, sustainable waste management, corporate governance, carbon efficiency, occupational hazards, total emissions, employee departure, corporate responsibility, total water, ZEV sales, average education time, greenhouse gas, training expenditure, campaign finance, reuse rate, sustainability, injury rate, marketing compliance, energy consumption, regulatory fines, incident count, workplace accidents, zero emission vehicles, circular economy, corporate citizenship, environmental initiatives, regulatory compliance, sustainability goals, industrial usage, energy intensity, effluent volume, political contributions, workplace safety, workforce stability, donation total, per vehicle, waste volume, fines, water utilization, community engagement, management practices, or Total Energy Consumed in Production, Energy Consumption per Vehicle Produced, Total Water Usage, Wastewater Volume Generated, Percentage of Water Recycled, Total GHG Emissions, GHG Intensity per Vehicle Produced, Total Manufacturing Waste Generated, Percentage of Waste Recycled or Diverted from Landfill, Number of Zero Emission Vehicles (ZEV) Sold, Amount of Total Waste from Manufacturing, Percentage of Total Waste Recycled, Environmental Related Goals and Actions Taken, Employee Turnover Rate, Number of Workplace Accidents, Injury Rates, Average Training Hours per Employee, Training Investment per Employee, Percentage of Minority Employees, Social Related Goals and Actions Taken, Number of Corruption Incidents Reported, Compliance Rate with Anti-Corruption Policies, Number of Anti-Competitive Behavior Incidents, Monetary Value of Fines Imposed, Total Value of Political Contributions Made, Number of Marketing Compliance Incidents or Violations Reported, Governance Related Goals and Actions Taken.'\n",
      "   Combined Score: 0.0\n"
     ]
    }
   ],
   "source": [
    "# semantic search\n",
    "top_k = 5\n",
    "distances, indices = index.search(query_embedding, top_k)\n",
    "top_documents_semantic = [loaded_data[i] for i in indices[0]]\n",
    "top_scores_semantic = distances[0]\n",
    "\n",
    "# keyword search\n",
    "tokenized_query = tokenize(query)\n",
    "bm25_scores = bm25.get_scores(tokenized_query)\n",
    "top_indices_bm25 = np.argsort(bm25_scores)[::-1][:top_k]\n",
    "top_documents_bm25 = [loaded_data[i] for i in top_indices_bm25]\n",
    "top_scores_bm25 = [bm25_scores[i] for i in top_indices_bm25]\n",
    "\n",
    "# Normalize scores\n",
    "semantic_scores_normalized = MinMaxScaler().fit_transform(top_scores_semantic.reshape(-1, 1)).flatten()\n",
    "bm25_scores_normalized = MinMaxScaler().fit_transform(np.array(top_scores_bm25).reshape(-1, 1)).flatten()\n",
    "\n",
    "# Combine scores\n",
    "alpha = 0.5  # Weight for semantic search\n",
    "combined_scores = alpha * semantic_scores_normalized + (1 - alpha) * bm25_scores_normalized\n",
    "\n",
    "# Re-rank documents\n",
    "top_indices_combined = np.argsort(combined_scores)[::-1][:top_k]\n",
    "top_documents_combined = [loaded_data[i] for i in top_indices_combined]\n",
    "top_combined_scores = [combined_scores[i] for i in top_indices_combined]\n",
    "\n",
    "print(\"Top documents (Combined):\")\n",
    "for i, doc in enumerate(top_documents_combined):\n",
    "    print(f\"{i + 1}. Original: {doc['Original']}\")\n",
    "    print(f\"   Summarized: {doc['Summarized']}\")\n",
    "    print(f\"   Combined Score: {top_combined_scores[i]}\")"
   ]
  }
 ],
 "metadata": {
  "kaggle": {
   "accelerator": "none",
   "dataSources": [],
   "dockerImageVersionId": 30918,
   "isGpuEnabled": false,
   "isInternetEnabled": true,
   "language": "python",
   "sourceType": "notebook"
  },
  "kernelspec": {
   "display_name": "Python 3",
   "language": "python",
   "name": "python3"
  },
  "language_info": {
   "codemirror_mode": {
    "name": "ipython",
    "version": 3
   },
   "file_extension": ".py",
   "mimetype": "text/x-python",
   "name": "python",
   "nbconvert_exporter": "python",
   "pygments_lexer": "ipython3",
   "version": "3.9.0"
  }
 },
 "nbformat": 4,
 "nbformat_minor": 4
}
