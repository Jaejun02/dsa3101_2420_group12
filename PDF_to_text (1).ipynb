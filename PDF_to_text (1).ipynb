{
 "cells": [
  {
   "cell_type": "code",
   "execution_count": 4,
   "id": "861dc97d",
   "metadata": {
    "ExecuteTime": {
     "end_time": "2025-02-25T03:04:21.758064Z",
     "start_time": "2025-02-25T03:00:42.700314Z"
    }
   },
   "outputs": [
    {
     "name": "stdout",
     "output_type": "stream",
     "text": [
      "Text extraction completed. Check output.txt\n"
     ]
    }
   ],
   "source": [
    "%pip install pdf2image pytesseract --quiet\n",
    "\n",
    "import pytesseract\n",
    "from pdf2image import convert_from_path\n",
    "from PIL import Image\n",
    "\n",
    "#pytesseract file path\n",
    "pytesseract.pytesseract.tesseract_cmd = r\"C:\\Program Files\\Tesseract-OCR\\tesseract.exe\"\n",
    "\n",
    "#pdf file path\n",
    "pdf_path = r\"C:\\Users\\harry\\Downloads\\LSE_AML_2023.pdf\"\n",
    "\n",
    "# convert to image\n",
    "images = convert_from_path(pdf_path, poppler_path=r\"C:\\Users\\harry\\Downloads\\Javasaved\\poppler-24.08.0\\Library\\bin\") \n",
    "\n",
    "# extract text from image\n",
    "text_output = []\n",
    "for i, img in enumerate(images):\n",
    "    text = pytesseract.image_to_string(img)\n",
    "    text_output.append(text)\n",
    "\n",
    "# save to txt file\n",
    "output_txt_path = \"output.txt\"\n",
    "with open(output_txt_path, \"w\", encoding=\"utf-8\") as f:\n",
    "    f.write(\"\\n\\n\".join(text_output))\n",
    "\n",
    "print(\"Text extraction completed. Check output.txt\")\n"
   ]
  }
 ],
 "metadata": {
  "kernelspec": {
   "display_name": "Python 3 (ipykernel)",
   "language": "python",
   "name": "python3"
  },
  "language_info": {
   "codemirror_mode": {
    "name": "ipython",
    "version": 3
   },
   "file_extension": ".py",
   "mimetype": "text/x-python",
   "name": "python",
   "nbconvert_exporter": "python",
   "pygments_lexer": "ipython3",
   "version": "3.9.12"
  },
  "latex_envs": {
   "LaTeX_envs_menu_present": true,
   "autoclose": false,
   "autocomplete": true,
   "bibliofile": "biblio.bib",
   "cite_by": "apalike",
   "current_citInitial": 1,
   "eqLabelWithNumbers": true,
   "eqNumInitial": 1,
   "hotkeys": {
    "equation": "Ctrl-E",
    "itemize": "Ctrl-I"
   },
   "labels_anchors": false,
   "latex_user_defs": false,
   "report_style_numbering": false,
   "user_envs_cfg": false
  },
  "toc": {
   "base_numbering": 1,
   "nav_menu": {},
   "number_sections": true,
   "sideBar": true,
   "skip_h1_title": false,
   "title_cell": "Table of Contents",
   "title_sidebar": "Contents",
   "toc_cell": false,
   "toc_position": {},
   "toc_section_display": true,
   "toc_window_display": false
  }
 },
 "nbformat": 4,
 "nbformat_minor": 5
}
