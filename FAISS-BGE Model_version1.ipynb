{
 "cells": [
  {
   "cell_type": "code",
   "execution_count": 42,
   "id": "24198f9d-28dd-4f43-93b3-b12e92be9747",
   "metadata": {},
   "outputs": [],
   "source": [
    "#conda install pytorch::faiss-cpu\n",
    "# %pip install sentence-transformers\n"
   ]
  },
  {
   "cell_type": "code",
   "execution_count": 6,
   "id": "4ec7fc74-ecc5-40ef-99a1-0dab573ef504",
   "metadata": {},
   "outputs": [],
   "source": [
    "import json\n",
    "import faiss\n",
    "import numpy as np\n",
    "from rank_bm25 import BM25Okapi\n",
    "from sentence_transformers import SentenceTransformer\n",
    "\n",
    "# Step 1: Load Embedding Model (BGE-M3)\n",
    "embedding_model = SentenceTransformer(\"BAAI/bge-m3\")\n",
    "\n",
    "# Step 2: Load ESG Documents from JSON File (Convert to Lowercase)\n",
    "def load_documents(file_path):\n",
    "    with open(file_path, \"r\", encoding=\"utf-8\") as f:\n",
    "        data = json.load(f)\n",
    "    \n",
    "    summarized_texts = [item[\"Summarized\"].lower() for item in data]  # Convert to lowercase\n",
    "    original_texts = [item[\"Original\"].lower() for item in data]  # Convert to lowercase\n",
    "\n",
    "    return summarized_texts, original_texts\n",
    "\n",
    "# Load the JSON file\n",
    "json_file_path = \"test_summaries.json\"\n",
    "summarized_docs, original_docs = load_documents(json_file_path)\n",
    "\n",
    "# Step 3: Initialize FAISS Index\n",
    "D = 1024  # Dimension of BGE-M3 embeddings\n",
    "index = faiss.IndexHNSWFlat(D, 32)\n",
    "metadata_store = summarized_docs  # Default to summarized text\n",
    "\n",
    "# Step 4: Initialize BM25 (Lowercased Corpus)\n",
    "bm25_corpus = [doc.split() for doc in summarized_docs]  # Tokenized text for BM25\n",
    "bm25 = BM25Okapi(bm25_corpus)\n",
    "\n",
    "# Step 5: Add Documents to FAISS (Lowercased Text for Embeddings)\n",
    "def add_document(text):\n",
    "    embedding = embedding_model.encode(text.lower(), normalize_embeddings=True)  # Encode lowercase text\n",
    "    index.add(np.array([embedding], dtype='float32'))\n",
    "\n",
    "for doc in summarized_docs:\n",
    "    add_document(doc)\n",
    "\n",
    "# Step 6: Search Function with Fallback to Original Text\n",
    "def search(query, top_k=5, alpha=0.7):\n",
    "    global metadata_store  # Default to summarized text\n",
    "    results = {}\n",
    "\n",
    "    query = query.lower()  # Convert query to lowercase\n",
    "    \n",
    "    # --- BM25 Search ---\n",
    "    bm25_scores = bm25.get_scores(query.split())\n",
    "    ranked_indices_bm25 = np.argsort(bm25_scores)[::-1][:top_k]\n",
    "\n",
    "    # Check if BM25 results are weak (all scores are low)\n",
    "    if max(bm25_scores) <= 0.5 :  # Adjust threshold if needed\n",
    "        print(\"No strong matches in summarized text, switching to original text...\")\n",
    "        metadata_store = original_docs  # Switch to original texts\n",
    "        bm25_corpus_original = [doc.split() for doc in original_docs]  # Tokenized text for BM25\n",
    "        bm25_original = BM25Okapi(bm25_corpus_original)\n",
    "        bm25_scores = bm25_original.get_scores(query.split())\n",
    "        ranked_indices_bm25 = np.argsort(bm25_scores)[::-1][:top_k]\n",
    "\n",
    "    for i, idx in enumerate(ranked_indices_bm25):\n",
    "        results[idx] = alpha * bm25_scores[idx]  # BM25 score weighted by alpha\n",
    "    \n",
    "    # --- FAISS Search ---\n",
    "    query_embedding = embedding_model.encode(query, normalize_embeddings=True)\n",
    "    faiss_distances, faiss_indices = index.search(np.array([query_embedding], dtype='float32'), top_k)\n",
    "\n",
    "    for i, idx in enumerate(faiss_indices[0]):\n",
    "        if idx in results:\n",
    "            results[idx] += (1 - alpha) * faiss_distances[0][i]  # Combine FAISS score\n",
    "        else:\n",
    "            results[idx] = (1 - alpha) * faiss_distances[0][i]\n",
    "\n",
    "    # --- Final Reranking ---\n",
    "    ranked_indices = sorted(results.keys(), key=lambda i: results[i], reverse=True)[:top_k]\n",
    "    \n",
    "    # Step 7: Store final results with scores\n",
    "    final_results = {\n",
    "        \"Query\": query,\n",
    "        \"Results\": []\n",
    "    }\n",
    "    \n",
    "    for i in ranked_indices:\n",
    "        final_results[\"Results\"].append({\n",
    "            \"Document\": metadata_store[i],\n",
    "            \"BM25 Score\": bm25_scores[i] if i in ranked_indices_bm25 else None,\n",
    "            \"FAISS Similarity\": faiss_distances[0][np.where(faiss_indices[0] == i)[0][0]] if i in faiss_indices[0] else None,\n",
    "            \"Final Score\": results[i]\n",
    "        })\n",
    "    \n",
    "    return final_results\n",
    "\n",
    "# query = \"Carbon neutrality policy\"\n",
    "# results = search(query, top_k=3, alpha=0.7)\n",
    "# print(\"Top Results (BM25 + FAISS Reranking with Fallback):\", results)\n"
   ]
  },
  {
   "cell_type": "code",
   "execution_count": 23,
   "id": "6d58fcb2-9f49-468b-a7c9-141e9bf4129a",
   "metadata": {},
   "outputs": [
    {
     "name": "stdout",
     "output_type": "stream",
     "text": [
      "Top Results (BM25 + FAISS Reranking with Fallback): {'Query': 'waste water', 'Results': [{'Document': '# ethic culture  \\n\\n[image description: an aqueduct or dam, is the main component for water distribution.]', 'BM25 Score': 8.368772261875115, 'FAISS Similarity': 0.9085475, 'Final Score': 6.130704839503834}, {'Document': '# text and data highlights  \\n\\n[image description: the acquisition of new solar energy fields reduces carbon emissions.]  \\n\\nrelationship between loyalty to the brand and aftersales satisfaction', 'BM25 Score': 4.203001777725989, 'FAISS Similarity': None, 'Final Score': 2.942101244408192}, {'Document': '# wastewater reuction levels \\n\\n the levels of water are unprecedented with a reduction in wastewater production by 15%', 'BM25 Score': 3.3204248728736463, 'FAISS Similarity': 0.69754326, 'Final Score': 2.5335603900421617}]}\n"
     ]
    }
   ],
   "source": [
    "query = \"waste water\"\n",
    "results = search(query, top_k=3, alpha=0.7)\n",
    "print(\"Top Results (BM25 + FAISS Reranking with Fallback):\", results)"
   ]
  },
  {
   "cell_type": "code",
   "execution_count": 22,
   "id": "1279df32-794a-402a-95ce-306670474385",
   "metadata": {},
   "outputs": [
    {
     "name": "stdout",
     "output_type": "stream",
     "text": [
      "Cosine Similarities: [0.45281696 0.3212503  0.59604496]\n"
     ]
    }
   ],
   "source": [
    "from sklearn.metrics.pairwise import cosine_similarity\n",
    "\n",
    "def compute_similarity(query, retrieved_docs):\n",
    "    query_embedding = embedding_model.encode(query, normalize_embeddings=True).reshape(1, -1)\n",
    "    doc_embeddings = np.array([embedding_model.encode(doc, normalize_embeddings=True) for doc in retrieved_docs])\n",
    "\n",
    "    similarities = cosine_similarity(query_embedding, doc_embeddings)[0]\n",
    "    return similarities\n",
    "\n",
    "query = \"waste water\"\n",
    "results = search(query, top_k=3, alpha=0.7)\n",
    "retrieved_docs = [res[\"Document\"] for res in results[\"Results\"]]\n",
    "\n",
    "similarity_scores = compute_similarity(query, retrieved_docs)\n",
    "print(\"Cosine Similarities:\", similarity_scores)\n"
   ]
  },
  {
   "cell_type": "code",
   "execution_count": null,
   "id": "0328750d-98aa-4d1b-9acc-e178f2f2e02a",
   "metadata": {},
   "outputs": [],
   "source": []
  }
 ],
 "metadata": {
  "kernelspec": {
   "display_name": "Python 3 (ipykernel)",
   "language": "python",
   "name": "python3"
  },
  "language_info": {
   "codemirror_mode": {
    "name": "ipython",
    "version": 3
   },
   "file_extension": ".py",
   "mimetype": "text/x-python",
   "name": "python",
   "nbconvert_exporter": "python",
   "pygments_lexer": "ipython3",
   "version": "3.10.16"
  },
  "widgets": {
   "application/vnd.jupyter.widget-state+json": {
    "state": {},
    "version_major": 2,
    "version_minor": 0
   }
  }
 },
 "nbformat": 4,
 "nbformat_minor": 5
}
